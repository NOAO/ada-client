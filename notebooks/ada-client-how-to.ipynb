{
 "cells": [
  {
   "cell_type": "code",
   "execution_count": 1,
   "id": "7f4035f1",
   "metadata": {},
   "outputs": [],
   "source": [
    "__author__ = 'Steve Pothier <steve.pothier@noirlab.edu>'\n",
    "__version__ = '20210709' # yyyymmdd; "
   ]
  },
  {
   "cell_type": "markdown",
   "id": "cf4b5fc4",
   "metadata": {},
   "source": [
    "# ADA Client\n",
    "Astro Data Archive Client"
   ]
  },
  {
   "cell_type": "markdown",
   "id": "b8592bf3",
   "metadata": {},
   "source": [
    "### Table of contents\n",
    "* [Goals & Summary](#goals)\n",
    "* [Install the ADA Client](#install)\n",
    "* [Imports and Setup](#imports)\n",
    "* [Overview of Data](#overview)\n",
    "* [Get a File](#retrieve)    \n",
    "* [Get Metadata](#find)    "
   ]
  },
  {
   "cell_type": "markdown",
   "id": "1acd6306",
   "metadata": {},
   "source": [
    "<a class=\"anchor\" id=\"goals\"></a>\n",
    "# Goals\n",
    "Instructions and examples for using Advanced Search API for accessing OIRLab Archive metadata.\n",
    "\n",
    "# Notebook Summary\n",
    "We show you how to use the API to search the Archive for FITS files by **any** field in the FITS headers.\n",
    "\n",
    "Note that the Archive maintains separate metadata tables for the Primary FITS HDUs (referred to as FitsFiles throughout) and the HDU extensions (referred to as HDUs throughout), and thus there are separate services for each.  When constructing a query, the user should first consider whether the information needed is something that would apply to the entire focal plane of the instrument (and so would want to use the FitsFile services), or whether searching the HDU extensions is needed (requiring use of the HDU services).  In addition, both the FitsFile and HDU tables have sets of \"Core\" and \"Auxiliary\" header fields, where the Core fields are optimized for fast searches. \n",
    "\n",
    "Because the data volume is orders of magnitude smaller, the FitsFile services are considerably faster.  Using only Core fields in a search will also substantially increase speed.  For an example that uses both FitsFile and HDU searches, as well as a mix of Core and Aux fields, see the exposure-map.ipynb notebook in this repository.\n",
    "\n",
    "The _find_ service call uses a _limit_ parameter which reduces the amount of output and may speed up the search.  If you don't think you are getting all your results, increase the limit parameter!  The limit defaults to something low to avoid accidentaly running very long searches. "
   ]
  },
  {
   "cell_type": "markdown",
   "id": "2526768b",
   "metadata": {},
   "source": [
    "<a class=\"anchor\" id=\"install\"></a>\n",
    "# Install the latest Ada Client:"
   ]
  },
  {
   "cell_type": "code",
   "execution_count": 2,
   "id": "629f6581",
   "metadata": {},
   "outputs": [
    {
     "name": "stdout",
     "output_type": "stream",
     "text": [
      "Requirement already satisfied: ada-client in ./venv/lib/python3.8/site-packages (0.0.4)\n",
      "Requirement already satisfied: healpy in ./venv/lib/python3.8/site-packages (from ada-client) (1.15.0)\n",
      "Requirement already satisfied: jupyterlab in ./venv/lib/python3.8/site-packages (from ada-client) (3.0.16)\n",
      "Requirement already satisfied: requests>=2.25.1 in ./venv/lib/python3.8/site-packages (from ada-client) (2.25.1)\n",
      "Requirement already satisfied: pandas>=1.1.4 in ./venv/lib/python3.8/site-packages (from ada-client) (1.3.0)\n",
      "Requirement already satisfied: matplotlib>=3.3.3 in ./venv/lib/python3.8/site-packages (from ada-client) (3.4.2)\n",
      "Requirement already satisfied: Deprecated in ./venv/lib/python3.8/site-packages (from ada-client) (1.2.12)\n",
      "Requirement already satisfied: pytest in ./venv/lib/python3.8/site-packages (from ada-client) (6.2.4)\n",
      "Requirement already satisfied: sphinx-argparse in ./venv/lib/python3.8/site-packages (from ada-client) (0.2.5)\n",
      "Requirement already satisfied: numpy>=1.16 in ./venv/lib/python3.8/site-packages (from matplotlib>=3.3.3->ada-client) (1.21.0)\n",
      "Requirement already satisfied: python-dateutil>=2.7 in ./venv/lib/python3.8/site-packages (from matplotlib>=3.3.3->ada-client) (2.8.1)\n",
      "Requirement already satisfied: pillow>=6.2.0 in ./venv/lib/python3.8/site-packages (from matplotlib>=3.3.3->ada-client) (8.3.1)\n",
      "Requirement already satisfied: cycler>=0.10 in ./venv/lib/python3.8/site-packages (from matplotlib>=3.3.3->ada-client) (0.10.0)\n",
      "Requirement already satisfied: pyparsing>=2.2.1 in ./venv/lib/python3.8/site-packages (from matplotlib>=3.3.3->ada-client) (2.4.7)\n",
      "Requirement already satisfied: kiwisolver>=1.0.1 in ./venv/lib/python3.8/site-packages (from matplotlib>=3.3.3->ada-client) (1.3.1)\n",
      "Requirement already satisfied: six in ./venv/lib/python3.8/site-packages (from cycler>=0.10->matplotlib>=3.3.3->ada-client) (1.16.0)\n",
      "Requirement already satisfied: pytz>=2017.3 in ./venv/lib/python3.8/site-packages (from pandas>=1.1.4->ada-client) (2021.1)\n",
      "Requirement already satisfied: chardet<5,>=3.0.2 in ./venv/lib/python3.8/site-packages (from requests>=2.25.1->ada-client) (4.0.0)\n",
      "Requirement already satisfied: urllib3<1.27,>=1.21.1 in ./venv/lib/python3.8/site-packages (from requests>=2.25.1->ada-client) (1.26.6)\n",
      "Requirement already satisfied: certifi>=2017.4.17 in ./venv/lib/python3.8/site-packages (from requests>=2.25.1->ada-client) (2021.5.30)\n",
      "Requirement already satisfied: idna<3,>=2.5 in ./venv/lib/python3.8/site-packages (from requests>=2.25.1->ada-client) (2.10)\n",
      "Requirement already satisfied: wrapt<2,>=1.10 in ./venv/lib/python3.8/site-packages (from Deprecated->ada-client) (1.12.1)\n",
      "Requirement already satisfied: scipy in ./venv/lib/python3.8/site-packages (from healpy->ada-client) (1.7.0)\n",
      "Requirement already satisfied: astropy in ./venv/lib/python3.8/site-packages (from healpy->ada-client) (4.2.1)\n",
      "Requirement already satisfied: pyerfa in ./venv/lib/python3.8/site-packages (from astropy->healpy->ada-client) (2.0.0)\n",
      "Requirement already satisfied: jupyter-core in ./venv/lib/python3.8/site-packages (from jupyterlab->ada-client) (4.7.1)\n",
      "Requirement already satisfied: tornado>=6.1.0 in ./venv/lib/python3.8/site-packages (from jupyterlab->ada-client) (6.1)\n",
      "Requirement already satisfied: jinja2>=2.1 in ./venv/lib/python3.8/site-packages (from jupyterlab->ada-client) (3.0.1)\n",
      "Requirement already satisfied: nbclassic~=0.2 in ./venv/lib/python3.8/site-packages (from jupyterlab->ada-client) (0.3.1)\n",
      "Requirement already satisfied: ipython in ./venv/lib/python3.8/site-packages (from jupyterlab->ada-client) (7.25.0)\n",
      "Requirement already satisfied: jupyter-server~=1.4 in ./venv/lib/python3.8/site-packages (from jupyterlab->ada-client) (1.9.0)\n",
      "Requirement already satisfied: packaging in ./venv/lib/python3.8/site-packages (from jupyterlab->ada-client) (21.0)\n",
      "Requirement already satisfied: jupyterlab-server~=2.3 in ./venv/lib/python3.8/site-packages (from jupyterlab->ada-client) (2.6.0)\n",
      "Requirement already satisfied: MarkupSafe>=2.0 in ./venv/lib/python3.8/site-packages (from jinja2>=2.1->jupyterlab->ada-client) (2.0.1)\n",
      "Requirement already satisfied: nbconvert in ./venv/lib/python3.8/site-packages (from jupyter-server~=1.4->jupyterlab->ada-client) (6.1.0)\n",
      "Requirement already satisfied: ipython-genutils in ./venv/lib/python3.8/site-packages (from jupyter-server~=1.4->jupyterlab->ada-client) (0.2.0)\n",
      "Requirement already satisfied: nbformat in ./venv/lib/python3.8/site-packages (from jupyter-server~=1.4->jupyterlab->ada-client) (5.1.3)\n",
      "Requirement already satisfied: prometheus-client in ./venv/lib/python3.8/site-packages (from jupyter-server~=1.4->jupyterlab->ada-client) (0.11.0)\n",
      "Requirement already satisfied: argon2-cffi in ./venv/lib/python3.8/site-packages (from jupyter-server~=1.4->jupyterlab->ada-client) (20.1.0)\n",
      "Requirement already satisfied: websocket-client in ./venv/lib/python3.8/site-packages (from jupyter-server~=1.4->jupyterlab->ada-client) (1.1.0)\n",
      "Requirement already satisfied: traitlets>=4.2.1 in ./venv/lib/python3.8/site-packages (from jupyter-server~=1.4->jupyterlab->ada-client) (5.0.5)\n",
      "Requirement already satisfied: Send2Trash in ./venv/lib/python3.8/site-packages (from jupyter-server~=1.4->jupyterlab->ada-client) (1.7.1)\n",
      "Requirement already satisfied: anyio<4,>=3.1.0 in ./venv/lib/python3.8/site-packages (from jupyter-server~=1.4->jupyterlab->ada-client) (3.2.1)\n",
      "Requirement already satisfied: terminado>=0.8.3 in ./venv/lib/python3.8/site-packages (from jupyter-server~=1.4->jupyterlab->ada-client) (0.10.1)\n",
      "Requirement already satisfied: jupyter-client>=6.1.1 in ./venv/lib/python3.8/site-packages (from jupyter-server~=1.4->jupyterlab->ada-client) (6.1.12)\n",
      "Requirement already satisfied: requests-unixsocket in ./venv/lib/python3.8/site-packages (from jupyter-server~=1.4->jupyterlab->ada-client) (0.2.0)\n",
      "Requirement already satisfied: pyzmq>=17 in ./venv/lib/python3.8/site-packages (from jupyter-server~=1.4->jupyterlab->ada-client) (22.1.0)\n",
      "Requirement already satisfied: sniffio>=1.1 in ./venv/lib/python3.8/site-packages (from anyio<4,>=3.1.0->jupyter-server~=1.4->jupyterlab->ada-client) (1.2.0)\n",
      "Requirement already satisfied: json5 in ./venv/lib/python3.8/site-packages (from jupyterlab-server~=2.3->jupyterlab->ada-client) (0.9.6)\n",
      "Requirement already satisfied: babel in ./venv/lib/python3.8/site-packages (from jupyterlab-server~=2.3->jupyterlab->ada-client) (2.9.1)\n",
      "Requirement already satisfied: jsonschema>=3.0.1 in ./venv/lib/python3.8/site-packages (from jupyterlab-server~=2.3->jupyterlab->ada-client) (3.2.0)\n",
      "Requirement already satisfied: attrs>=17.4.0 in ./venv/lib/python3.8/site-packages (from jsonschema>=3.0.1->jupyterlab-server~=2.3->jupyterlab->ada-client) (21.2.0)\n",
      "Requirement already satisfied: pyrsistent>=0.14.0 in ./venv/lib/python3.8/site-packages (from jsonschema>=3.0.1->jupyterlab-server~=2.3->jupyterlab->ada-client) (0.18.0)\n",
      "Requirement already satisfied: setuptools in ./venv/lib/python3.8/site-packages (from jsonschema>=3.0.1->jupyterlab-server~=2.3->jupyterlab->ada-client) (57.1.0)\n",
      "Requirement already satisfied: notebook<7 in ./venv/lib/python3.8/site-packages (from nbclassic~=0.2->jupyterlab->ada-client) (6.4.0)\n",
      "Requirement already satisfied: ipykernel in ./venv/lib/python3.8/site-packages (from notebook<7->nbclassic~=0.2->jupyterlab->ada-client) (6.0.1)\n",
      "Requirement already satisfied: ptyprocess in ./venv/lib/python3.8/site-packages (from terminado>=0.8.3->jupyter-server~=1.4->jupyterlab->ada-client) (0.7.0)\n",
      "Requirement already satisfied: cffi>=1.0.0 in ./venv/lib/python3.8/site-packages (from argon2-cffi->jupyter-server~=1.4->jupyterlab->ada-client) (1.14.5)\n",
      "Requirement already satisfied: pycparser in ./venv/lib/python3.8/site-packages (from cffi>=1.0.0->argon2-cffi->jupyter-server~=1.4->jupyterlab->ada-client) (2.20)\n",
      "Requirement already satisfied: debugpy>=1.0.0 in ./venv/lib/python3.8/site-packages (from ipykernel->notebook<7->nbclassic~=0.2->jupyterlab->ada-client) (1.3.0)\n",
      "Requirement already satisfied: matplotlib-inline in ./venv/lib/python3.8/site-packages (from ipython->jupyterlab->ada-client) (0.1.2)\n",
      "Requirement already satisfied: pickleshare in ./venv/lib/python3.8/site-packages (from ipython->jupyterlab->ada-client) (0.7.5)\n",
      "Requirement already satisfied: decorator in ./venv/lib/python3.8/site-packages (from ipython->jupyterlab->ada-client) (5.0.9)\n",
      "Requirement already satisfied: prompt-toolkit!=3.0.0,!=3.0.1,<3.1.0,>=2.0.0 in ./venv/lib/python3.8/site-packages (from ipython->jupyterlab->ada-client) (3.0.19)\n",
      "Requirement already satisfied: backcall in ./venv/lib/python3.8/site-packages (from ipython->jupyterlab->ada-client) (0.2.0)\n",
      "Requirement already satisfied: pygments in ./venv/lib/python3.8/site-packages (from ipython->jupyterlab->ada-client) (2.9.0)\n",
      "Requirement already satisfied: jedi>=0.16 in ./venv/lib/python3.8/site-packages (from ipython->jupyterlab->ada-client) (0.18.0)\n",
      "Requirement already satisfied: pexpect>4.3 in ./venv/lib/python3.8/site-packages (from ipython->jupyterlab->ada-client) (4.8.0)\n",
      "Requirement already satisfied: parso<0.9.0,>=0.8.0 in ./venv/lib/python3.8/site-packages (from jedi>=0.16->ipython->jupyterlab->ada-client) (0.8.2)\n",
      "Requirement already satisfied: wcwidth in ./venv/lib/python3.8/site-packages (from prompt-toolkit!=3.0.0,!=3.0.1,<3.1.0,>=2.0.0->ipython->jupyterlab->ada-client) (0.2.5)\n"
     ]
    },
    {
     "name": "stdout",
     "output_type": "stream",
     "text": [
      "Requirement already satisfied: mistune<2,>=0.8.1 in ./venv/lib/python3.8/site-packages (from nbconvert->jupyter-server~=1.4->jupyterlab->ada-client) (0.8.4)\n",
      "Requirement already satisfied: pandocfilters>=1.4.1 in ./venv/lib/python3.8/site-packages (from nbconvert->jupyter-server~=1.4->jupyterlab->ada-client) (1.4.3)\n",
      "Requirement already satisfied: entrypoints>=0.2.2 in ./venv/lib/python3.8/site-packages (from nbconvert->jupyter-server~=1.4->jupyterlab->ada-client) (0.3)\n",
      "Requirement already satisfied: bleach in ./venv/lib/python3.8/site-packages (from nbconvert->jupyter-server~=1.4->jupyterlab->ada-client) (3.3.0)\n",
      "Requirement already satisfied: nbclient<0.6.0,>=0.5.0 in ./venv/lib/python3.8/site-packages (from nbconvert->jupyter-server~=1.4->jupyterlab->ada-client) (0.5.3)\n",
      "Requirement already satisfied: testpath in ./venv/lib/python3.8/site-packages (from nbconvert->jupyter-server~=1.4->jupyterlab->ada-client) (0.5.0)\n",
      "Requirement already satisfied: defusedxml in ./venv/lib/python3.8/site-packages (from nbconvert->jupyter-server~=1.4->jupyterlab->ada-client) (0.7.1)\n",
      "Requirement already satisfied: jupyterlab-pygments in ./venv/lib/python3.8/site-packages (from nbconvert->jupyter-server~=1.4->jupyterlab->ada-client) (0.1.2)\n",
      "Requirement already satisfied: nest-asyncio in ./venv/lib/python3.8/site-packages (from nbclient<0.6.0,>=0.5.0->nbconvert->jupyter-server~=1.4->jupyterlab->ada-client) (1.5.1)\n",
      "Requirement already satisfied: async-generator in ./venv/lib/python3.8/site-packages (from nbclient<0.6.0,>=0.5.0->nbconvert->jupyter-server~=1.4->jupyterlab->ada-client) (1.10)\n",
      "Requirement already satisfied: webencodings in ./venv/lib/python3.8/site-packages (from bleach->nbconvert->jupyter-server~=1.4->jupyterlab->ada-client) (0.5.1)\n",
      "Requirement already satisfied: toml in ./venv/lib/python3.8/site-packages (from pytest->ada-client) (0.10.2)\n",
      "Requirement already satisfied: pluggy<1.0.0a1,>=0.12 in ./venv/lib/python3.8/site-packages (from pytest->ada-client) (0.13.1)\n",
      "Requirement already satisfied: py>=1.8.2 in ./venv/lib/python3.8/site-packages (from pytest->ada-client) (1.10.0)\n",
      "Requirement already satisfied: iniconfig in ./venv/lib/python3.8/site-packages (from pytest->ada-client) (1.1.1)\n",
      "Requirement already satisfied: sphinx>=1.2.0 in ./venv/lib/python3.8/site-packages (from sphinx-argparse->ada-client) (4.0.3)\n",
      "Requirement already satisfied: imagesize in ./venv/lib/python3.8/site-packages (from sphinx>=1.2.0->sphinx-argparse->ada-client) (1.2.0)\n",
      "Requirement already satisfied: sphinxcontrib-applehelp in ./venv/lib/python3.8/site-packages (from sphinx>=1.2.0->sphinx-argparse->ada-client) (1.0.2)\n",
      "Requirement already satisfied: sphinxcontrib-htmlhelp in ./venv/lib/python3.8/site-packages (from sphinx>=1.2.0->sphinx-argparse->ada-client) (2.0.0)\n",
      "Requirement already satisfied: sphinxcontrib-serializinghtml in ./venv/lib/python3.8/site-packages (from sphinx>=1.2.0->sphinx-argparse->ada-client) (1.1.5)\n",
      "Requirement already satisfied: sphinxcontrib-qthelp in ./venv/lib/python3.8/site-packages (from sphinx>=1.2.0->sphinx-argparse->ada-client) (1.0.3)\n",
      "Requirement already satisfied: alabaster<0.8,>=0.7 in ./venv/lib/python3.8/site-packages (from sphinx>=1.2.0->sphinx-argparse->ada-client) (0.7.12)\n",
      "Requirement already satisfied: docutils<0.18,>=0.14 in ./venv/lib/python3.8/site-packages (from sphinx>=1.2.0->sphinx-argparse->ada-client) (0.17.1)\n",
      "Requirement already satisfied: snowballstemmer>=1.1 in ./venv/lib/python3.8/site-packages (from sphinx>=1.2.0->sphinx-argparse->ada-client) (2.1.0)\n",
      "Requirement already satisfied: sphinxcontrib-devhelp in ./venv/lib/python3.8/site-packages (from sphinx>=1.2.0->sphinx-argparse->ada-client) (1.0.2)\n",
      "Requirement already satisfied: sphinxcontrib-jsmath in ./venv/lib/python3.8/site-packages (from sphinx>=1.2.0->sphinx-argparse->ada-client) (1.0.1)\n"
     ]
    }
   ],
   "source": [
    "! pip install -U ada-client"
   ]
  },
  {
   "cell_type": "markdown",
   "id": "9732ae9e",
   "metadata": {},
   "source": [
    "<a class=\"anchor\" id=\"imports\"></a>\n",
    "## Imports and Setup\n",
    "This creates the default client instance. You can include parameters to `AdaClient` to turn on Verbose output, provide your credentials, set the default limit on number of records returned, etc.  You only need credentials to retrieve FITS files that are still in their proprietary period."
   ]
  },
  {
   "cell_type": "code",
   "execution_count": 3,
   "id": "a9f1456d",
   "metadata": {},
   "outputs": [
    {
     "name": "stdout",
     "output_type": "stream",
     "text": [
      "Help on class AdaClient in module ada.client:\n",
      "\n",
      "class AdaClient(builtins.object)\n",
      " |  AdaClient(url='https://astroarchive.noirlab.edu/', verbose=False, limit=10, email=None, password=None)\n",
      " |  \n",
      " |  Astro Data Archive Client.\n",
      " |  Instance creation compares the version from the Server\n",
      " |  against the one expected by the Client. Throws error if\n",
      " |  the Client is a major version or more behind.\n",
      " |  \n",
      " |  Methods defined here:\n",
      " |  \n",
      " |  __init__(self, url='https://astroarchive.noirlab.edu/', verbose=False, limit=10, email=None, password=None)\n",
      " |      Initialize self.  See help(type(self)) for accurate signature.\n",
      " |  \n",
      " |  check_version(self)\n",
      " |      Insure this library in consistent with the API version.\n",
      " |      \n",
      " |      :returns: True if consistent, otherwise raise exception\n",
      " |      :rtype: boolean\n",
      " |  \n",
      " |  find(self, jspec={'outfields': ['md5sum'], 'search': []}, count=False, format='json', limit=False, offset=None, rectype='file', sort=None, verbose=False)\n",
      " |      Get metadata records that match a search specification.\n",
      " |      \n",
      " |      :param jspec: The search specification (@@@ more info)\n",
      " |      :param rectype: Type of rows/records to return ('file' or 'hdu')\n",
      " |      :param limit: The maximum number of rows to return\n",
      " |      :param format: The format of the result ('csv', 'xml', default='json')\n",
      " |      :returns: Header info and Rows\n",
      " |      :rtype: tuple (info,rows)\n",
      " |  \n",
      " |  retrieve(self, fileid, outfile, hdu=None)\n",
      " |      Download a FITS file.\n",
      " |      \n",
      " |      :param fileid: File ID of FITS file in the Archive.\n",
      " |      :param outfile: Local full path that will be overwritten with FITS file.\n",
      " |      :param hdu: Indices of HDUs to include in file (default: include all)\n",
      " |      :returns: True on success\n",
      " |      :rtype: boolean\n",
      " |  \n",
      " |  vosearch(self, ra, dec, size, rectype='file', format='votable', limit=None)\n",
      " |      SIA search by region of interest given by RA, DEC, and size.\n",
      " |      \n",
      " |      :param ra: right-ascension of the field center,\n",
      " |                 in decimal degrees using the ICRS coordinate system.\n",
      " |      :param dec: declination of the field center,\n",
      " |                  in decimal degrees using the ICRS coordinate system.\n",
      " |      :param size: The coordinate angular size of the region given\n",
      " |                   in decimal degrees. SINGLE VALUE for now. Example: '0.3'\n",
      " |      :param limit: The maximum number of rows to return\n",
      " |      :param format: The format of the result ('csv', 'xml', default='json')\n",
      " |      :returns: Header info and Rows\n",
      " |      :rtype: tuple (info,rows)\n",
      " |  \n",
      " |  ----------------------------------------------------------------------\n",
      " |  Readonly properties defined here:\n",
      " |  \n",
      " |  file_count\n",
      " |  \n",
      " |  version\n",
      " |      Return version of Rest API used by this module.\n",
      " |      \n",
      " |      If the Rest API changes such that the Major version increases,\n",
      " |      a new version of this module will likely need to be used.\n",
      " |      \n",
      " |      :returns: API version\n",
      " |      :rtype: float\n",
      " |  \n",
      " |  ----------------------------------------------------------------------\n",
      " |  Data descriptors defined here:\n",
      " |  \n",
      " |  __dict__\n",
      " |      dictionary for instance variables (if defined)\n",
      " |  \n",
      " |  __weakref__\n",
      " |      list of weak references to the object (if defined)\n",
      " |  \n",
      " |  ----------------------------------------------------------------------\n",
      " |  Data and other attributes defined here:\n",
      " |  \n",
      " |  KNOWN_GOOD_API_VERSION = 6.0\n",
      "\n"
     ]
    }
   ],
   "source": [
    "import ada.client\n",
    "client = ada.client.AdaClient()\n",
    "help(ada.client.AdaClient)"
   ]
  },
  {
   "cell_type": "markdown",
   "id": "fe20319b",
   "metadata": {},
   "source": [
    "<a class=\"anchor\" id=\"overview\"></a>\n",
    "## Get Overview of Available Data"
   ]
  },
  {
   "cell_type": "code",
   "execution_count": 4,
   "id": "c7971997",
   "metadata": {},
   "outputs": [
    {
     "data": {
      "text/plain": [
       "6.0"
      ]
     },
     "execution_count": 4,
     "metadata": {},
     "output_type": "execute_result"
    }
   ],
   "source": [
    "client.version"
   ]
  },
  {
   "cell_type": "code",
   "execution_count": 5,
   "id": "729e32f2",
   "metadata": {},
   "outputs": [
    {
     "data": {
      "text/plain": [
       "({'META': {'endpoint': 'adv_search/find'},\n",
       "  'PARAMETERS': {'rectype': 'file',\n",
       "   'limit': 10,\n",
       "   'format': 'json',\n",
       "   'count': 'y',\n",
       "   'default_limit': 1000,\n",
       "   'default_offset': 0,\n",
       "   'default_sort': 'md5sum',\n",
       "   'oldest': None,\n",
       "   'previd': None,\n",
       "   'last': 10,\n",
       "   'json_payload': {'outfields': ['md5sum'], 'search': []}},\n",
       "  'HEADER': {'md5sum': 'str'}},\n",
       " [{'count': 16462312}])"
      ]
     },
     "execution_count": 5,
     "metadata": {},
     "output_type": "execute_result"
    }
   ],
   "source": [
    "client.find({\"outfields\": [\"md5sum\"], \"search\":[]},count=True)"
   ]
  },
  {
   "cell_type": "code",
   "execution_count": 6,
   "id": "83bfc546",
   "metadata": {},
   "outputs": [
    {
     "name": "stdout",
     "output_type": "stream",
     "text": [
      "This will take about 5 seconds\n",
      "Number of File records=16,462,312\n",
      "CPU times: user 32.5 ms, sys: 7.51 ms, total: 40 ms\n",
      "Wall time: 5.05 s\n"
     ]
    },
    {
     "data": {
      "text/plain": [
       "({'META': {'endpoint': 'adv_search/find'},\n",
       "  'PARAMETERS': {'rectype': 'file',\n",
       "   'limit': 10,\n",
       "   'format': 'json',\n",
       "   'count': 'y',\n",
       "   'default_limit': 1000,\n",
       "   'default_offset': 0,\n",
       "   'default_sort': 'md5sum',\n",
       "   'oldest': None,\n",
       "   'previd': None,\n",
       "   'last': 10,\n",
       "   'json_payload': {'outfields': ['md5sum'], 'search': []}},\n",
       "  'HEADER': {'md5sum': 'str'}},\n",
       " [{'count': 16462312}])"
      ]
     },
     "execution_count": 6,
     "metadata": {},
     "output_type": "execute_result"
    }
   ],
   "source": [
    "%%time\n",
    "print('This will take about 5 seconds')\n",
    "res = client.find({\"outfields\": [\"md5sum\"], \"search\":[]},count=True)\n",
    "print(f'Number of File records={res[1][0][\"count\"]:,}')\n",
    "res"
   ]
  },
  {
   "cell_type": "markdown",
   "id": "9b36fe02",
   "metadata": {},
   "source": [
    "## Retrieve a file"
   ]
  },
  {
   "cell_type": "code",
   "execution_count": 7,
   "id": "65a71172",
   "metadata": {},
   "outputs": [
    {
     "data": {
      "text/plain": [
       "({'META': {'endpoint': 'adv_search/find'},\n",
       "  'PARAMETERS': {'rectype': 'file',\n",
       "   'limit': 1,\n",
       "   'format': 'json',\n",
       "   'default_limit': 1000,\n",
       "   'default_offset': 0,\n",
       "   'default_sort': 'md5sum',\n",
       "   'oldest': None,\n",
       "   'previd': None,\n",
       "   'last': 1,\n",
       "   'json_payload': {'outfields': ['md5sum', 'url'], 'search': []}},\n",
       "  'HEADER': {'md5sum': 'str', 'url': 'str'}},\n",
       " [{'md5sum': '18463047cde585fc47b1bbb78b11eea5',\n",
       "   'url': 'https://astroarchive.noirlab.edu/api/retrieve/18463047cde585fc47b1bbb78b11eea5/'}])"
      ]
     },
     "execution_count": 7,
     "metadata": {},
     "output_type": "execute_result"
    }
   ],
   "source": [
    "res = client.find({\"outfields\": [\"md5sum\", \"url\"], \"search\":[]}, limit=1)\n",
    "res"
   ]
  },
  {
   "cell_type": "code",
   "execution_count": null,
   "id": "10592700",
   "metadata": {},
   "outputs": [],
   "source": []
  }
 ],
 "metadata": {
  "kernelspec": {
   "display_name": "Python 3 (ipykernel)",
   "language": "python",
   "name": "python3"
  },
  "language_info": {
   "codemirror_mode": {
    "name": "ipython",
    "version": 3
   },
   "file_extension": ".py",
   "mimetype": "text/x-python",
   "name": "python",
   "nbconvert_exporter": "python",
   "pygments_lexer": "ipython3",
   "version": "3.8.10"
  }
 },
 "nbformat": 4,
 "nbformat_minor": 5
}
